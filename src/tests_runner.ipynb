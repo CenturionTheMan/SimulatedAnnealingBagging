{
 "cells": [
  {
   "cell_type": "code",
   "execution_count": null,
   "metadata": {},
   "outputs": [],
   "source": [
    "from sklearn.model_selection import train_test_split\n",
    "from sklearn.metrics import accuracy_score\n",
    "from sklearn import datasets\n",
    "from sklearn.tree import DecisionTreeClassifier\n",
    "import numpy as np\n",
    "from Testers import Tester\n",
    "import pandas as pd"
   ]
  },
  {
   "cell_type": "code",
   "execution_count": null,
   "metadata": {},
   "outputs": [],
   "source": [
    "data = datasets.load_digits()\n",
    "X = data.data\n",
    "y = data.target\n",
    "X_train, X_test, y_train, y_test = train_test_split(X, y, test_size=0.2)"
   ]
  },
  {
   "cell_type": "code",
   "execution_count": null,
   "metadata": {},
   "outputs": [],
   "source": [
    "tester = Tester(X_test=X_test, y_test=y_test, X_train=X_train, y_train=y_train,\n",
    "                trees_n=10, T0=1.0, alpha=0.95, max_iterations=100,\n",
    "                reps=10, dir_to_save='./../res/')\n",
    "data_dt, data_bagging, data_bagging_sa = tester.test_methods()\n",
    "\n",
    "tester = Tester(X_test=X_test, y_test=y_test, X_train=X_train, y_train=y_train,\n",
    "                trees_n=20, T0=1.0, alpha=0.95, max_iterations=100,\n",
    "                reps=10, dir_to_save='./../res/')\n",
    "data_dt, data_bagging, data_bagging_sa = tester.test_methods()\n",
    "\n",
    "tester = Tester(X_test=X_test, y_test=y_test, X_train=X_train, y_train=y_train,\n",
    "                trees_n=30, T0=1.0, alpha=0.95, max_iterations=100,\n",
    "                reps=10, dir_to_save='./../res/')\n",
    "data_dt, data_bagging, data_bagging_sa = tester.test_methods()"
   ]
  },
  {
   "cell_type": "code",
   "execution_count": null,
   "metadata": {},
   "outputs": [],
   "source": [
    "res_dt = data_dt['Accuracy']\n",
    "res_bagging = data_bagging['Accuracy']\n",
    "res_bagging_sa = data_bagging_sa['Accuracy']\n",
    "\n",
    "res_dataframe = pd.DataFrame({\n",
    "    'Algorithm': ['Decision Tree', 'Bagging', 'Bagging SA'],\n",
    "    'Mean': [res_dt.mean(), res_bagging.mean(), res_bagging_sa.mean()],\n",
    "    'Std': [res_dt.std(), res_bagging.std(), res_bagging_sa.std()],\n",
    "    'Min': [res_dt.min(), res_bagging.min(), res_bagging_sa.min()],\n",
    "    'Max': [res_dt.max(), res_bagging.max(), res_bagging_sa.max()],\n",
    "    'Median': [res_dt.median(), res_bagging.median(), res_bagging_sa.median()],\n",
    "})\n",
    "\n",
    "print(res_dataframe)"
   ]
  },
  {
   "cell_type": "code",
   "execution_count": null,
   "metadata": {},
   "outputs": [],
   "source": [
    "# Create plot\n",
    "import matplotlib.pyplot as plt\n",
    "\n",
    "def get_accuracy_mean_std(name: str, trees_n:int):\n",
    "    df = pd.read_csv(f'./../res/accuracy_{name}_{trees_n}.csv')\n",
    "    accuracy = df['Accuracy']\n",
    "    return accuracy.mean(), accuracy.std()\n",
    "\n",
    "names = ['dt', 'bagging', 'bagging_sa']\n",
    "trees_n = [10, 20, 30]\n",
    "\n",
    "\n",
    "\n",
    "    \n",
    "\n",
    "    "
   ]
  }
 ],
 "metadata": {
  "kernelspec": {
   "display_name": ".venv",
   "language": "python",
   "name": "python3"
  },
  "language_info": {
   "codemirror_mode": {
    "name": "ipython",
    "version": 3
   },
   "file_extension": ".py",
   "mimetype": "text/x-python",
   "name": "python",
   "nbconvert_exporter": "python",
   "pygments_lexer": "ipython3",
   "version": "3.12.3"
  }
 },
 "nbformat": 4,
 "nbformat_minor": 2
}
