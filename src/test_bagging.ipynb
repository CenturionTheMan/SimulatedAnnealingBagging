{
 "cells": [
  {
   "cell_type": "code",
   "execution_count": 1,
   "metadata": {},
   "outputs": [],
   "source": [
    "from raw_python.Bagging import create_models, create_bags, evaluate_stats\n",
    "from sklearn.model_selection import train_test_split\n",
    "from sklearn.metrics import accuracy_score\n",
    "from sklearn import datasets\n",
    "from sklearn.tree import DecisionTreeClassifier\n",
    "import numpy as np\n",
    "import pandas as pd\n",
    "import random\n",
    "from raw_python.BaggingSA import BaggingSA\n",
    "from raw_python.DatasetsHandle import get_dataset\n",
    "from tabulate import tabulate\n",
    "\n",
    "seed = 41\n",
    "np.random.seed(seed)\n",
    "random.seed(seed)"
   ]
  },
  {
   "cell_type": "code",
   "execution_count": 2,
   "metadata": {
    "tags": [
     "parameters"
    ]
   },
   "outputs": [],
   "source": [
    "dataset_name = 'students_dropout'\n",
    "k_cross = 4\n",
    "reps = 3\n",
    "params = {\n",
    "    'T0': 2,\n",
    "    'cooling_method': 'geometric',\n",
    "    'alpha': 0.995,\n",
    "    'max_iterations': 2000,\n",
    "    'feature_mutation_chance': 0.25,\n",
    "    'test_split_amount': 5,\n",
    "    'beta': 0.75,\n",
    "    'gamma': 0.25,\n",
    "    'delta': 0.05,\n",
    "    'epsilon': 0.0,\n",
    "    'n_trees': 20,\n",
    "}"
   ]
  },
  {
   "cell_type": "code",
   "execution_count": 3,
   "metadata": {},
   "outputs": [],
   "source": [
    "\n",
    "\n",
    "\n",
    "def evaluate_bagging(X_train, y_train, X_test, y_test):\n",
    "    n_trees = params['n_trees']\n",
    "    bags = create_bags(X_train, y_train, bags_amount=n_trees)\n",
    "    models = create_models(bags=bags)\n",
    "    stats = evaluate_stats(X=X_test, y=y_test, models=models)\n",
    "    return stats['accuracy'], stats['f1'], bags\n",
    "\n",
    "\n",
    "    \n",
    "\n",
    "def evaluate_bagging_sa(X_train, y_train, X_test, y_test, bags):\n",
    "    T0 = params['T0']\n",
    "    cooling_method = params['cooling_method']\n",
    "    alpha = params['alpha']\n",
    "    max_iterations = params['max_iterations']\n",
    "    feature_mutation_chance = params['feature_mutation_chance']\n",
    "    test_split_amount = params['test_split_amount']\n",
    "    n_trees = params['n_trees']\n",
    "    beta = params['beta']\n",
    "    delta = params['delta']\n",
    "    gamma = params['gamma']\n",
    "    epsilon = params['epsilon']\n",
    "    bagging_sa = BaggingSA(X=X_train, y=y_train,\n",
    "                            T0=T0, cooling_method=cooling_method, alpha=alpha, max_iterations=max_iterations, n_trees=n_trees,\n",
    "                            feature_mutation_chance=feature_mutation_chance, test_split_amount=test_split_amount, beta=beta, gamma=gamma, delta=delta, epsilon=epsilon)\n",
    "    models, fitness = bagging_sa.run(X_for_test=X_test, y_for_test=y_test, monitor_fun=fun_monitor, get_fitness=True, initial_bags=bags)\n",
    "    stats = evaluate_stats(X_test, y_test, models=models)\n",
    "    return stats['accuracy'], stats['f1'], models, fitness\n",
    "\n",
    "def fun_monitor(iteration, T, best_fitness, fitness, new_fitness, accuracy):\n",
    "    if accuracy is None:\n",
    "        accuracy = 0.0\n",
    "    # print(f\"    I: {iteration}, T: {T:.3f}, Best fitness: {best_fitness:.3f}, Fitness: {fitness:.3f}, New fitness: {new_fitness:.3f}, Accuracy: {accuracy:.3f}\")"
   ]
  },
  {
   "cell_type": "code",
   "execution_count": 4,
   "metadata": {},
   "outputs": [
    {
     "name": "stdout",
     "output_type": "stream",
     "text": [
      "Fold  1/ 4 | Rep  1/ 3 | Fitness: 0.800 | SA: 0.754 | Bagging: 0.751 | F1 SA: 0.666 | F1 Bagging: 0.680\n"
     ]
    },
    {
     "ename": "KeyboardInterrupt",
     "evalue": "",
     "output_type": "error",
     "traceback": [
      "\u001b[31m---------------------------------------------------------------------------\u001b[39m",
      "\u001b[31mKeyboardInterrupt\u001b[39m                         Traceback (most recent call last)",
      "\u001b[36mCell\u001b[39m\u001b[36m \u001b[39m\u001b[32mIn[4]\u001b[39m\u001b[32m, line 18\u001b[39m\n\u001b[32m     16\u001b[39m \u001b[38;5;28;01mfor\u001b[39;00m r \u001b[38;5;129;01min\u001b[39;00m \u001b[38;5;28mrange\u001b[39m(reps):\n\u001b[32m     17\u001b[39m     acc_bagging, f1_bagging, bags = evaluate_bagging(X_train, y_train, X_test, y_test)\n\u001b[32m---> \u001b[39m\u001b[32m18\u001b[39m     acc_sa, f1_sa, models, fitness = \u001b[43mevaluate_bagging_sa\u001b[49m\u001b[43m(\u001b[49m\u001b[43mX_train\u001b[49m\u001b[43m,\u001b[49m\u001b[43m \u001b[49m\u001b[43my_train\u001b[49m\u001b[43m,\u001b[49m\u001b[43m \u001b[49m\u001b[43mX_test\u001b[49m\u001b[43m,\u001b[49m\u001b[43m \u001b[49m\u001b[43my_test\u001b[49m\u001b[43m,\u001b[49m\u001b[43m \u001b[49m\u001b[43mbags\u001b[49m\u001b[43m)\u001b[49m\n\u001b[32m     20\u001b[39m     result.append([k+\u001b[32m1\u001b[39m, r+\u001b[32m1\u001b[39m, fitness, acc_sa, acc_bagging, f1_sa, f1_bagging])\n\u001b[32m     21\u001b[39m     \u001b[38;5;28mprint\u001b[39m(\u001b[33mf\u001b[39m\u001b[33m\"\u001b[39m\u001b[33mFold \u001b[39m\u001b[38;5;132;01m{\u001b[39;00mk+\u001b[32m1\u001b[39m\u001b[38;5;132;01m:\u001b[39;00m\u001b[33m2\u001b[39m\u001b[38;5;132;01m}\u001b[39;00m\u001b[33m/\u001b[39m\u001b[38;5;132;01m{\u001b[39;00mk_cross\u001b[38;5;132;01m:\u001b[39;00m\u001b[33m2\u001b[39m\u001b[38;5;132;01m}\u001b[39;00m\u001b[33m | Rep \u001b[39m\u001b[38;5;132;01m{\u001b[39;00mr+\u001b[32m1\u001b[39m\u001b[38;5;132;01m:\u001b[39;00m\u001b[33m2\u001b[39m\u001b[38;5;132;01m}\u001b[39;00m\u001b[33m/\u001b[39m\u001b[38;5;132;01m{\u001b[39;00mreps\u001b[38;5;132;01m:\u001b[39;00m\u001b[33m2\u001b[39m\u001b[38;5;132;01m}\u001b[39;00m\u001b[33m | Fitness: \u001b[39m\u001b[38;5;132;01m{\u001b[39;00mfitness\u001b[38;5;132;01m:\u001b[39;00m\u001b[33m.3f\u001b[39m\u001b[38;5;132;01m}\u001b[39;00m\u001b[33m | SA: \u001b[39m\u001b[38;5;132;01m{\u001b[39;00macc_sa\u001b[38;5;132;01m:\u001b[39;00m\u001b[33m.3f\u001b[39m\u001b[38;5;132;01m}\u001b[39;00m\u001b[33m | Bagging: \u001b[39m\u001b[38;5;132;01m{\u001b[39;00macc_bagging\u001b[38;5;132;01m:\u001b[39;00m\u001b[33m.3f\u001b[39m\u001b[38;5;132;01m}\u001b[39;00m\u001b[33m | F1 SA: \u001b[39m\u001b[38;5;132;01m{\u001b[39;00mf1_sa\u001b[38;5;132;01m:\u001b[39;00m\u001b[33m.3f\u001b[39m\u001b[38;5;132;01m}\u001b[39;00m\u001b[33m | F1 Bagging: \u001b[39m\u001b[38;5;132;01m{\u001b[39;00mf1_bagging\u001b[38;5;132;01m:\u001b[39;00m\u001b[33m.3f\u001b[39m\u001b[38;5;132;01m}\u001b[39;00m\u001b[33m\"\u001b[39m)\n",
      "\u001b[36mCell\u001b[39m\u001b[36m \u001b[39m\u001b[32mIn[3]\u001b[39m\u001b[32m, line 26\u001b[39m, in \u001b[36mevaluate_bagging_sa\u001b[39m\u001b[34m(X_train, y_train, X_test, y_test, bags)\u001b[39m\n\u001b[32m     22\u001b[39m epsilon = params[\u001b[33m'\u001b[39m\u001b[33mepsilon\u001b[39m\u001b[33m'\u001b[39m]\n\u001b[32m     23\u001b[39m bagging_sa = BaggingSA(X=X_train, y=y_train,\n\u001b[32m     24\u001b[39m                         T0=T0, cooling_method=cooling_method, alpha=alpha, max_iterations=max_iterations, n_trees=n_trees,\n\u001b[32m     25\u001b[39m                         feature_mutation_chance=feature_mutation_chance, test_split_amount=test_split_amount, beta=beta, gamma=gamma, delta=delta, epsilon=epsilon)\n\u001b[32m---> \u001b[39m\u001b[32m26\u001b[39m models, fitness = \u001b[43mbagging_sa\u001b[49m\u001b[43m.\u001b[49m\u001b[43mrun\u001b[49m\u001b[43m(\u001b[49m\u001b[43mX_for_test\u001b[49m\u001b[43m=\u001b[49m\u001b[43mX_test\u001b[49m\u001b[43m,\u001b[49m\u001b[43m \u001b[49m\u001b[43my_for_test\u001b[49m\u001b[43m=\u001b[49m\u001b[43my_test\u001b[49m\u001b[43m,\u001b[49m\u001b[43m \u001b[49m\u001b[43mmonitor_fun\u001b[49m\u001b[43m=\u001b[49m\u001b[43mfun_monitor\u001b[49m\u001b[43m,\u001b[49m\u001b[43m \u001b[49m\u001b[43mget_fitness\u001b[49m\u001b[43m=\u001b[49m\u001b[38;5;28;43;01mTrue\u001b[39;49;00m\u001b[43m,\u001b[49m\u001b[43m \u001b[49m\u001b[43minitial_bags\u001b[49m\u001b[43m=\u001b[49m\u001b[43mbags\u001b[49m\u001b[43m)\u001b[49m\n\u001b[32m     27\u001b[39m stats = evaluate_stats(X_test, y_test, models=models)\n\u001b[32m     28\u001b[39m \u001b[38;5;28;01mreturn\u001b[39;00m stats[\u001b[33m'\u001b[39m\u001b[33maccuracy\u001b[39m\u001b[33m'\u001b[39m], stats[\u001b[33m'\u001b[39m\u001b[33mf1\u001b[39m\u001b[33m'\u001b[39m], models, fitness\n",
      "\u001b[36mFile \u001b[39m\u001b[32mc:\\Personal\\tmp\\SimulatedAnnealingBagging\\src\\raw_python\\BaggingSA.py:197\u001b[39m, in \u001b[36mrun\u001b[39m\u001b[34m(self, X_for_test, y_for_test, monitor_fun, get_fitness, initial_bags)\u001b[39m\n\u001b[32m    193\u001b[39m     models = create_models(bags)\n\u001b[32m    194\u001b[39m     fitness = \u001b[38;5;28mself\u001b[39m.calculate_fitness(models)\n\u001b[32m--> \u001b[39m\u001b[32m197\u001b[39m best_models = models.copy()\n\u001b[32m    198\u001b[39m best_fitness = fitness\n\u001b[32m    200\u001b[39m iteration = \u001b[32m1\u001b[39m\n",
      "\u001b[36mFile \u001b[39m\u001b[32mc:\\Personal\\tmp\\SimulatedAnnealingBagging\\src\\raw_python\\Bagging.py:94\u001b[39m, in \u001b[36mcreate_models\u001b[39m\u001b[34m(bags, n_jobs)\u001b[39m\n\u001b[32m     93\u001b[39m \u001b[38;5;28;01mdef\u001b[39;00m\u001b[38;5;250m \u001b[39m\u001b[34mcreate_models\u001b[39m(bags: List[Bag], n_jobs: \u001b[38;5;28mint\u001b[39m = -\u001b[32m1\u001b[39m) -> List[BaggingModel]:\n\u001b[32m---> \u001b[39m\u001b[32m94\u001b[39m     \u001b[38;5;28;01mreturn\u001b[39;00m \u001b[43mParallel\u001b[49m\u001b[43m(\u001b[49m\u001b[43mn_jobs\u001b[49m\u001b[43m=\u001b[49m\u001b[43mn_jobs\u001b[49m\u001b[43m)\u001b[49m\u001b[43m(\u001b[49m\n\u001b[32m     95\u001b[39m \u001b[43m        \u001b[49m\u001b[43mdelayed\u001b[49m\u001b[43m(\u001b[49m\u001b[43mcreate_model\u001b[49m\u001b[43m)\u001b[49m\u001b[43m(\u001b[49m\u001b[43mbag\u001b[49m\u001b[43m)\u001b[49m\u001b[43m \u001b[49m\u001b[38;5;28;43;01mfor\u001b[39;49;00m\u001b[43m \u001b[49m\u001b[43mbag\u001b[49m\u001b[43m \u001b[49m\u001b[38;5;129;43;01min\u001b[39;49;00m\u001b[43m \u001b[49m\u001b[43mbags\u001b[49m\n\u001b[32m     96\u001b[39m \u001b[43m    \u001b[49m\u001b[43m)\u001b[49m\n",
      "\u001b[36mFile \u001b[39m\u001b[32mc:\\Personal\\tmp\\SimulatedAnnealingBagging\\.venv\\Lib\\site-packages\\sklearn\\utils\\parallel.py:77\u001b[39m, in \u001b[36mParallel.__call__\u001b[39m\u001b[34m(self, iterable)\u001b[39m\n\u001b[32m     72\u001b[39m config = get_config()\n\u001b[32m     73\u001b[39m iterable_with_config = (\n\u001b[32m     74\u001b[39m     (_with_config(delayed_func, config), args, kwargs)\n\u001b[32m     75\u001b[39m     \u001b[38;5;28;01mfor\u001b[39;00m delayed_func, args, kwargs \u001b[38;5;129;01min\u001b[39;00m iterable\n\u001b[32m     76\u001b[39m )\n\u001b[32m---> \u001b[39m\u001b[32m77\u001b[39m \u001b[38;5;28;01mreturn\u001b[39;00m \u001b[38;5;28;43msuper\u001b[39;49m\u001b[43m(\u001b[49m\u001b[43m)\u001b[49m\u001b[43m.\u001b[49m\u001b[34;43m__call__\u001b[39;49m\u001b[43m(\u001b[49m\u001b[43miterable_with_config\u001b[49m\u001b[43m)\u001b[49m\n",
      "\u001b[36mFile \u001b[39m\u001b[32mc:\\Personal\\tmp\\SimulatedAnnealingBagging\\.venv\\Lib\\site-packages\\joblib\\parallel.py:2007\u001b[39m, in \u001b[36mParallel.__call__\u001b[39m\u001b[34m(self, iterable)\u001b[39m\n\u001b[32m   2001\u001b[39m \u001b[38;5;66;03m# The first item from the output is blank, but it makes the interpreter\u001b[39;00m\n\u001b[32m   2002\u001b[39m \u001b[38;5;66;03m# progress until it enters the Try/Except block of the generator and\u001b[39;00m\n\u001b[32m   2003\u001b[39m \u001b[38;5;66;03m# reaches the first `yield` statement. This starts the asynchronous\u001b[39;00m\n\u001b[32m   2004\u001b[39m \u001b[38;5;66;03m# dispatch of the tasks to the workers.\u001b[39;00m\n\u001b[32m   2005\u001b[39m \u001b[38;5;28mnext\u001b[39m(output)\n\u001b[32m-> \u001b[39m\u001b[32m2007\u001b[39m \u001b[38;5;28;01mreturn\u001b[39;00m output \u001b[38;5;28;01mif\u001b[39;00m \u001b[38;5;28mself\u001b[39m.return_generator \u001b[38;5;28;01melse\u001b[39;00m \u001b[38;5;28;43mlist\u001b[39;49m\u001b[43m(\u001b[49m\u001b[43moutput\u001b[49m\u001b[43m)\u001b[49m\n",
      "\u001b[36mFile \u001b[39m\u001b[32mc:\\Personal\\tmp\\SimulatedAnnealingBagging\\.venv\\Lib\\site-packages\\joblib\\parallel.py:1650\u001b[39m, in \u001b[36mParallel._get_outputs\u001b[39m\u001b[34m(self, iterator, pre_dispatch)\u001b[39m\n\u001b[32m   1647\u001b[39m     \u001b[38;5;28;01myield\u001b[39;00m\n\u001b[32m   1649\u001b[39m     \u001b[38;5;28;01mwith\u001b[39;00m \u001b[38;5;28mself\u001b[39m._backend.retrieval_context():\n\u001b[32m-> \u001b[39m\u001b[32m1650\u001b[39m         \u001b[38;5;28;01myield from\u001b[39;00m \u001b[38;5;28mself\u001b[39m._retrieve()\n\u001b[32m   1652\u001b[39m \u001b[38;5;28;01mexcept\u001b[39;00m \u001b[38;5;167;01mGeneratorExit\u001b[39;00m:\n\u001b[32m   1653\u001b[39m     \u001b[38;5;66;03m# The generator has been garbage collected before being fully\u001b[39;00m\n\u001b[32m   1654\u001b[39m     \u001b[38;5;66;03m# consumed. This aborts the remaining tasks if possible and warn\u001b[39;00m\n\u001b[32m   1655\u001b[39m     \u001b[38;5;66;03m# the user if necessary.\u001b[39;00m\n\u001b[32m   1656\u001b[39m     \u001b[38;5;28mself\u001b[39m._exception = \u001b[38;5;28;01mTrue\u001b[39;00m\n",
      "\u001b[36mFile \u001b[39m\u001b[32mc:\\Personal\\tmp\\SimulatedAnnealingBagging\\.venv\\Lib\\site-packages\\joblib\\parallel.py:1762\u001b[39m, in \u001b[36mParallel._retrieve\u001b[39m\u001b[34m(self)\u001b[39m\n\u001b[32m   1757\u001b[39m \u001b[38;5;66;03m# If the next job is not ready for retrieval yet, we just wait for\u001b[39;00m\n\u001b[32m   1758\u001b[39m \u001b[38;5;66;03m# async callbacks to progress.\u001b[39;00m\n\u001b[32m   1759\u001b[39m \u001b[38;5;28;01mif\u001b[39;00m ((\u001b[38;5;28mlen\u001b[39m(\u001b[38;5;28mself\u001b[39m._jobs) == \u001b[32m0\u001b[39m) \u001b[38;5;129;01mor\u001b[39;00m\n\u001b[32m   1760\u001b[39m     (\u001b[38;5;28mself\u001b[39m._jobs[\u001b[32m0\u001b[39m].get_status(\n\u001b[32m   1761\u001b[39m         timeout=\u001b[38;5;28mself\u001b[39m.timeout) == TASK_PENDING)):\n\u001b[32m-> \u001b[39m\u001b[32m1762\u001b[39m     \u001b[43mtime\u001b[49m\u001b[43m.\u001b[49m\u001b[43msleep\u001b[49m\u001b[43m(\u001b[49m\u001b[32;43m0.01\u001b[39;49m\u001b[43m)\u001b[49m\n\u001b[32m   1763\u001b[39m     \u001b[38;5;28;01mcontinue\u001b[39;00m\n\u001b[32m   1765\u001b[39m \u001b[38;5;66;03m# We need to be careful: the job list can be filling up as\u001b[39;00m\n\u001b[32m   1766\u001b[39m \u001b[38;5;66;03m# we empty it and Python list are not thread-safe by\u001b[39;00m\n\u001b[32m   1767\u001b[39m \u001b[38;5;66;03m# default hence the use of the lock\u001b[39;00m\n",
      "\u001b[31mKeyboardInterrupt\u001b[39m: "
     ]
    }
   ],
   "source": [
    "result = []\n",
    "X,y = get_dataset(dataset_name)\n",
    "random_indices = np.arange(X.shape[0])\n",
    "np.random.shuffle(random_indices)\n",
    "X = X[random_indices]\n",
    "y = y[random_indices]\n",
    "\n",
    "sub_groups_X = np.array_split(np.array(X), k_cross)\n",
    "sub_groups_y = np.array_split(np.array(y), k_cross) \n",
    "\n",
    "for k in range(k_cross):\n",
    "    X_train = np.concatenate(sub_groups_X[:k] + sub_groups_X[k+1:])\n",
    "    y_train = np.concatenate(sub_groups_y[:k] + sub_groups_y[k+1:])\n",
    "    X_test = sub_groups_X[k]\n",
    "    y_test = sub_groups_y[k]\n",
    "    for r in range(reps):\n",
    "        acc_bagging, f1_bagging, bags = evaluate_bagging(X_train, y_train, X_test, y_test)\n",
    "        acc_sa, f1_sa, models, fitness = evaluate_bagging_sa(X_train, y_train, X_test, y_test, bags)\n",
    "        \n",
    "        result.append([k+1, r+1, fitness, acc_sa, acc_bagging, f1_sa, f1_bagging])\n",
    "        print(f\"Fold {k+1:2}/{k_cross:2} | Rep {r+1:2}/{reps:2} | Fitness: {fitness:.3f} | SA: {acc_sa:.3f} | Bagging: {acc_bagging:.3f} | F1 SA: {f1_sa:.3f} | F1 Bagging: {f1_bagging:.3f}\")\n",
    "        df = pd.DataFrame(result, columns=['Fold', 'Rep', 'Fitness', 'SA', 'Bagging', 'F1 SA', 'F1 Bagging'])\n",
    "        df.to_csv(f'./../res/test_bagging.csv', index=False)"
   ]
  },
  {
   "cell_type": "code",
   "execution_count": null,
   "metadata": {},
   "outputs": [
    {
     "name": "stdout",
     "output_type": "stream",
     "text": [
      "+------+-----+---------+-------+---------+-------+------------+\n",
      "| Fold | Rep | Fitness |  SA   | Bagging | F1 SA | F1 Bagging |\n",
      "+------+-----+---------+-------+---------+-------+------------+\n",
      "| 1.0  | 1.0 |  0.794  | 0.759 |  0.753  | 0.675 |   0.684    |\n",
      "| 1.0  | 2.0 |  0.788  | 0.762 |  0.744  | 0.691 |   0.666    |\n",
      "| 1.0  | 3.0 |  0.786  | 0.742 |  0.757  | 0.656 |   0.678    |\n",
      "| 2.0  | 1.0 |  0.794  | 0.734 |  0.751  | 0.641 |   0.683    |\n",
      "| 2.0  | 2.0 |  0.791  | 0.742 |  0.75   | 0.67  |   0.685    |\n",
      "| 2.0  | 3.0 |  0.797  | 0.739 |  0.726  | 0.662 |   0.642    |\n",
      "+------+-----+---------+-------+---------+-------+------------+\n",
      "Accuracy mean: 0.746\n",
      "Bagging mean:  0.747\n",
      "=====================================\n",
      "SA F1 mean: 0.666\n",
      "Bagging F1 mean: 0.673\n"
     ]
    }
   ],
   "source": [
    "df = pd.read_csv(f'./../res/test_bagging.csv')\n",
    "\n",
    "tmp = df.copy().round(3)\n",
    "print(tabulate(tmp, headers='keys', tablefmt='pretty', showindex=False))\n",
    "\n",
    "acc_mean = df['SA'].mean()\n",
    "bagging_mean = df['Bagging'].mean()\n",
    "\n",
    "sa_f1 = df['F1 SA'].mean()\n",
    "bagging_f1 = df['F1 Bagging'].mean()\n",
    "\n",
    "print(f\"Accuracy mean: {acc_mean:.3f}\")\n",
    "print(f\"Bagging mean:  {bagging_mean:.3f}\")\n",
    "print(\"=====================================\")\n",
    "print(f\"SA F1 mean: {sa_f1:.3f}\")\n",
    "print(f\"Bagging F1 mean: {bagging_f1:.3f}\")"
   ]
  },
  {
   "cell_type": "markdown",
   "metadata": {},
   "source": [
    "    +------+-----+---------+----------+---------+---------------+\n",
    "    | Fold | Rep | Fitness | Accuracy | Bagging | BaggingRandom |\n",
    "    +------+-----+---------+----------+---------+---------------+\n",
    "    | 1.0  | 1.0 |  0.822  |  0.797   |  0.793  |     0.817     |\n",
    "    | 1.0  | 2.0 |  0.828  |  0.793   |  0.807  |     0.823     |\n",
    "    | 1.0  | 3.0 |  0.847  |  0.783   |  0.83   |     0.813     |\n",
    "    | 2.0  | 1.0 |  0.803  |  0.839   |  0.849  |     0.876     |\n",
    "    | 2.0  | 2.0 |  0.822  |  0.853   |  0.883  |     0.873     |\n",
    "    | 2.0  | 3.0 |  0.795  |  0.873   |  0.89   |     0.89      |\n",
    "    | 3.0  | 1.0 |  0.828  |  0.866   |  0.839  |     0.846     |\n",
    "    | 3.0  | 2.0 |  0.824  |  0.806   |  0.803  |     0.839     |\n",
    "    | 3.0  | 3.0 |  0.86   |  0.856   |  0.846  |     0.803     |\n",
    "    +------+-----+---------+----------+---------+---------------+\n",
    "    Fitness mean:  0.826\n",
    "    Accuracy mean: 0.830\n",
    "    Bagging mean:  0.838\n",
    "    Bagging Random mean:  0.842"
   ]
  },
  {
   "cell_type": "code",
   "execution_count": null,
   "metadata": {},
   "outputs": [
    {
     "ename": "KeyError",
     "evalue": "'Accuracy'",
     "output_type": "error",
     "traceback": [
      "\u001b[31m---------------------------------------------------------------------------\u001b[39m",
      "\u001b[31mKeyError\u001b[39m                                  Traceback (most recent call last)",
      "\u001b[36mFile \u001b[39m\u001b[32mc:\\Personal\\tmp\\SimulatedAnnealingBagging\\.venv\\Lib\\site-packages\\pandas\\core\\indexes\\base.py:3805\u001b[39m, in \u001b[36mIndex.get_loc\u001b[39m\u001b[34m(self, key)\u001b[39m\n\u001b[32m   3804\u001b[39m \u001b[38;5;28;01mtry\u001b[39;00m:\n\u001b[32m-> \u001b[39m\u001b[32m3805\u001b[39m     \u001b[38;5;28;01mreturn\u001b[39;00m \u001b[38;5;28;43mself\u001b[39;49m\u001b[43m.\u001b[49m\u001b[43m_engine\u001b[49m\u001b[43m.\u001b[49m\u001b[43mget_loc\u001b[49m\u001b[43m(\u001b[49m\u001b[43mcasted_key\u001b[49m\u001b[43m)\u001b[49m\n\u001b[32m   3806\u001b[39m \u001b[38;5;28;01mexcept\u001b[39;00m \u001b[38;5;167;01mKeyError\u001b[39;00m \u001b[38;5;28;01mas\u001b[39;00m err:\n",
      "\u001b[36mFile \u001b[39m\u001b[32mindex.pyx:167\u001b[39m, in \u001b[36mpandas._libs.index.IndexEngine.get_loc\u001b[39m\u001b[34m()\u001b[39m\n",
      "\u001b[36mFile \u001b[39m\u001b[32mindex.pyx:196\u001b[39m, in \u001b[36mpandas._libs.index.IndexEngine.get_loc\u001b[39m\u001b[34m()\u001b[39m\n",
      "\u001b[36mFile \u001b[39m\u001b[32mpandas\\\\_libs\\\\hashtable_class_helper.pxi:7081\u001b[39m, in \u001b[36mpandas._libs.hashtable.PyObjectHashTable.get_item\u001b[39m\u001b[34m()\u001b[39m\n",
      "\u001b[36mFile \u001b[39m\u001b[32mpandas\\\\_libs\\\\hashtable_class_helper.pxi:7089\u001b[39m, in \u001b[36mpandas._libs.hashtable.PyObjectHashTable.get_item\u001b[39m\u001b[34m()\u001b[39m\n",
      "\u001b[31mKeyError\u001b[39m: 'Accuracy'",
      "\nThe above exception was the direct cause of the following exception:\n",
      "\u001b[31mKeyError\u001b[39m                                  Traceback (most recent call last)",
      "\u001b[36mCell\u001b[39m\u001b[36m \u001b[39m\u001b[32mIn[6]\u001b[39m\u001b[32m, line 5\u001b[39m\n\u001b[32m      2\u001b[39m \u001b[38;5;28;01mfrom\u001b[39;00m\u001b[38;5;250m \u001b[39m\u001b[34;01mscipy\u001b[39;00m\u001b[34;01m.\u001b[39;00m\u001b[34;01mstats\u001b[39;00m\u001b[38;5;250m \u001b[39m\u001b[38;5;28;01mimport\u001b[39;00m ttest_rel, wilcoxon, mannwhitneyu, shapiro\n\u001b[32m      4\u001b[39m t1_start, p1 = shapiro(df[\u001b[33m'\u001b[39m\u001b[33mBagging\u001b[39m\u001b[33m'\u001b[39m])\n\u001b[32m----> \u001b[39m\u001b[32m5\u001b[39m t2_start, p2 = shapiro(\u001b[43mdf\u001b[49m\u001b[43m[\u001b[49m\u001b[33;43m'\u001b[39;49m\u001b[33;43mAccuracy\u001b[39;49m\u001b[33;43m'\u001b[39;49m\u001b[43m]\u001b[49m)\n\u001b[32m      7\u001b[39m \u001b[38;5;28mprint\u001b[39m(\u001b[33mf\u001b[39m\u001b[33m\"\u001b[39m\u001b[33mShapiro Bagging: t-statistic = \u001b[39m\u001b[38;5;132;01m{\u001b[39;00mt1_start\u001b[38;5;132;01m:\u001b[39;00m\u001b[33m.3f\u001b[39m\u001b[38;5;132;01m}\u001b[39;00m\u001b[33m, p-value = \u001b[39m\u001b[38;5;132;01m{\u001b[39;00mp1\u001b[38;5;132;01m:\u001b[39;00m\u001b[33m.3f\u001b[39m\u001b[38;5;132;01m}\u001b[39;00m\u001b[33m\"\u001b[39m)\n\u001b[32m      8\u001b[39m \u001b[38;5;28mprint\u001b[39m(\u001b[33mf\u001b[39m\u001b[33m\"\u001b[39m\u001b[33mShapiro BaggingSA: t-statistic = \u001b[39m\u001b[38;5;132;01m{\u001b[39;00mt2_start\u001b[38;5;132;01m:\u001b[39;00m\u001b[33m.3f\u001b[39m\u001b[38;5;132;01m}\u001b[39;00m\u001b[33m, p-value = \u001b[39m\u001b[38;5;132;01m{\u001b[39;00mp2\u001b[38;5;132;01m:\u001b[39;00m\u001b[33m.3f\u001b[39m\u001b[38;5;132;01m}\u001b[39;00m\u001b[33m\"\u001b[39m)\n",
      "\u001b[36mFile \u001b[39m\u001b[32mc:\\Personal\\tmp\\SimulatedAnnealingBagging\\.venv\\Lib\\site-packages\\pandas\\core\\frame.py:4102\u001b[39m, in \u001b[36mDataFrame.__getitem__\u001b[39m\u001b[34m(self, key)\u001b[39m\n\u001b[32m   4100\u001b[39m \u001b[38;5;28;01mif\u001b[39;00m \u001b[38;5;28mself\u001b[39m.columns.nlevels > \u001b[32m1\u001b[39m:\n\u001b[32m   4101\u001b[39m     \u001b[38;5;28;01mreturn\u001b[39;00m \u001b[38;5;28mself\u001b[39m._getitem_multilevel(key)\n\u001b[32m-> \u001b[39m\u001b[32m4102\u001b[39m indexer = \u001b[38;5;28;43mself\u001b[39;49m\u001b[43m.\u001b[49m\u001b[43mcolumns\u001b[49m\u001b[43m.\u001b[49m\u001b[43mget_loc\u001b[49m\u001b[43m(\u001b[49m\u001b[43mkey\u001b[49m\u001b[43m)\u001b[49m\n\u001b[32m   4103\u001b[39m \u001b[38;5;28;01mif\u001b[39;00m is_integer(indexer):\n\u001b[32m   4104\u001b[39m     indexer = [indexer]\n",
      "\u001b[36mFile \u001b[39m\u001b[32mc:\\Personal\\tmp\\SimulatedAnnealingBagging\\.venv\\Lib\\site-packages\\pandas\\core\\indexes\\base.py:3812\u001b[39m, in \u001b[36mIndex.get_loc\u001b[39m\u001b[34m(self, key)\u001b[39m\n\u001b[32m   3807\u001b[39m     \u001b[38;5;28;01mif\u001b[39;00m \u001b[38;5;28misinstance\u001b[39m(casted_key, \u001b[38;5;28mslice\u001b[39m) \u001b[38;5;129;01mor\u001b[39;00m (\n\u001b[32m   3808\u001b[39m         \u001b[38;5;28misinstance\u001b[39m(casted_key, abc.Iterable)\n\u001b[32m   3809\u001b[39m         \u001b[38;5;129;01mand\u001b[39;00m \u001b[38;5;28many\u001b[39m(\u001b[38;5;28misinstance\u001b[39m(x, \u001b[38;5;28mslice\u001b[39m) \u001b[38;5;28;01mfor\u001b[39;00m x \u001b[38;5;129;01min\u001b[39;00m casted_key)\n\u001b[32m   3810\u001b[39m     ):\n\u001b[32m   3811\u001b[39m         \u001b[38;5;28;01mraise\u001b[39;00m InvalidIndexError(key)\n\u001b[32m-> \u001b[39m\u001b[32m3812\u001b[39m     \u001b[38;5;28;01mraise\u001b[39;00m \u001b[38;5;167;01mKeyError\u001b[39;00m(key) \u001b[38;5;28;01mfrom\u001b[39;00m\u001b[38;5;250m \u001b[39m\u001b[34;01merr\u001b[39;00m\n\u001b[32m   3813\u001b[39m \u001b[38;5;28;01mexcept\u001b[39;00m \u001b[38;5;167;01mTypeError\u001b[39;00m:\n\u001b[32m   3814\u001b[39m     \u001b[38;5;66;03m# If we have a listlike key, _check_indexing_error will raise\u001b[39;00m\n\u001b[32m   3815\u001b[39m     \u001b[38;5;66;03m#  InvalidIndexError. Otherwise we fall through and re-raise\u001b[39;00m\n\u001b[32m   3816\u001b[39m     \u001b[38;5;66;03m#  the TypeError.\u001b[39;00m\n\u001b[32m   3817\u001b[39m     \u001b[38;5;28mself\u001b[39m._check_indexing_error(key)\n",
      "\u001b[31mKeyError\u001b[39m: 'Accuracy'"
     ]
    }
   ],
   "source": [
    "#statistic tests\n",
    "from scipy.stats import ttest_rel, wilcoxon, mannwhitneyu, shapiro\n",
    "\n",
    "t1_start, p1 = shapiro(df['Bagging'])\n",
    "t2_start, p2 = shapiro(df['Accuracy'])\n",
    "\n",
    "print(f\"Shapiro Bagging: t-statistic = {t1_start:.3f}, p-value = {p1:.3f}\")\n",
    "print(f\"Shapiro BaggingSA: t-statistic = {t2_start:.3f}, p-value = {p2:.3f}\")\n",
    "\n",
    "if p1 > 0.05 and p2 > 0.05:\n",
    "    t_stat, p_value = ttest_rel(df['Accuracy'], df['Bagging'], alternative='greater')\n",
    "    print(f\"t-test: t-statistic = {t_stat:.3f}, p-value = {p_value:.3f}\")\n",
    "    txt = 'BaggingSA is greater than Bagging' if p_value < 0.05 else 'BaggingSA is not greater than Bagging'\n",
    "    print(txt)\n",
    "else:\n",
    "    w_stat, p_value = wilcoxon(df['Accuracy'], df['Bagging'], alternative='greater')\n",
    "    print(f\"Wilcoxon: w-statistic = {w_stat:.3f}, p-value = {p_value:.3f}\")\n",
    "    txt = 'BaggingSA is greater than Bagging' if p_value < 0.05 else 'BaggingSA is not greater than Bagging'\n",
    "    print(txt)"
   ]
  }
 ],
 "metadata": {
  "kernelspec": {
   "display_name": ".venv",
   "language": "python",
   "name": "python3"
  },
  "language_info": {
   "codemirror_mode": {
    "name": "ipython",
    "version": 3
   },
   "file_extension": ".py",
   "mimetype": "text/x-python",
   "name": "python",
   "nbconvert_exporter": "python",
   "pygments_lexer": "ipython3",
   "version": "3.12.10"
  }
 },
 "nbformat": 4,
 "nbformat_minor": 2
}
