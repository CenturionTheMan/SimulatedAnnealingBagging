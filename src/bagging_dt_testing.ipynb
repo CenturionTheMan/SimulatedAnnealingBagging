{
 "cells": [
  {
   "cell_type": "code",
   "execution_count": 1,
   "metadata": {},
   "outputs": [],
   "source": [
    "from sklearn.tree import DecisionTreeClassifier\n",
    "from sklearn.metrics import accuracy_score\n",
    "from sklearn.model_selection import train_test_split\n",
    "from sklearn.datasets import load_breast_cancer\n",
    "from sklearn import datasets\n",
    "import pandas as pd\n",
    "import numpy as np\n",
    "\n",
    "seed = 42\n",
    "np.random.seed(seed)\n"
   ]
  },
  {
   "cell_type": "code",
   "execution_count": 2,
   "metadata": {},
   "outputs": [
    {
     "name": "stdout",
     "output_type": "stream",
     "text": [
      "Accuracy: 0.95\n"
     ]
    }
   ],
   "source": [
    "# STANDARD DECISION TREE CLASSIFIER EXAMPLE\n",
    "\n",
    "cancer = datasets.load_breast_cancer()\n",
    "X = cancer.data\n",
    "y = cancer.target\n",
    "X_train, X_test, y_train, y_test = train_test_split(X, y, test_size=0.2, random_state=seed)\n",
    "\n",
    "clf = DecisionTreeClassifier(random_state=seed)\n",
    "clf.fit(X_train, y_train)\n",
    "y_pred = clf.predict(X_test)\n",
    "\n",
    "accuracy = accuracy_score(y_test, y_pred)\n",
    "print(f\"Accuracy: {accuracy:.2f}\")\n"
   ]
  },
  {
   "cell_type": "code",
   "execution_count": 3,
   "metadata": {},
   "outputs": [
    {
     "name": "stdout",
     "output_type": "stream",
     "text": [
      "Accuracy: 0.97\n"
     ]
    }
   ],
   "source": [
    "# BAGGING DECISION TREE CLASSIFIER EXAMPLE\n",
    "from BaggingDT import create_bags, create_models, get_accuracy\n",
    "\n",
    "\n",
    "data_raw = datasets.load_breast_cancer()\n",
    "X = cancer.data\n",
    "y = cancer.target\n",
    "X_train, X_test, y_train, y_test = train_test_split(X, y, test_size=0.2)\n",
    "\n",
    "bags = create_bags(X_train, y_train, n_bags=10)\n",
    "models = create_models(bags=bags, n_trees=10, seed=seed)\n",
    "accuracy = get_accuracy(models=models, X=X_test, y=y_test)\n",
    "\n",
    "print(f\"Accuracy: {accuracy:.2f}\")"
   ]
  },
  {
   "cell_type": "code",
   "execution_count": 4,
   "metadata": {},
   "outputs": [
    {
     "name": "stdout",
     "output_type": "stream",
     "text": [
      "Iteration: 0, Temperature: 1.000, Accuracy: 0.93, New Accuracy: 0.93\n",
      "Iteration: 1, Temperature: 0.950, Accuracy: 0.93, New Accuracy: 0.89\n",
      "Iteration: 2, Temperature: 0.902, Accuracy: 0.93, New Accuracy: 0.91\n",
      "Iteration: 3, Temperature: 0.857, Accuracy: 0.93, New Accuracy: 0.90\n",
      "Iteration: 4, Temperature: 0.815, Accuracy: 0.93, New Accuracy: 0.89\n",
      "Iteration: 5, Temperature: 0.774, Accuracy: 0.93, New Accuracy: 0.92\n",
      "Iteration: 6, Temperature: 0.735, Accuracy: 0.93, New Accuracy: 0.91\n",
      "Iteration: 7, Temperature: 0.698, Accuracy: 0.93, New Accuracy: 0.90\n",
      "Iteration: 8, Temperature: 0.663, Accuracy: 0.93, New Accuracy: 0.89\n",
      "Iteration: 9, Temperature: 0.630, Accuracy: 0.93, New Accuracy: 0.92\n",
      "Iteration: 10, Temperature: 0.599, Accuracy: 0.93, New Accuracy: 0.92\n",
      "Iteration: 11, Temperature: 0.569, Accuracy: 0.93, New Accuracy: 0.92\n",
      "Iteration: 12, Temperature: 0.540, Accuracy: 0.93, New Accuracy: 0.92\n",
      "Iteration: 13, Temperature: 0.513, Accuracy: 0.93, New Accuracy: 0.89\n",
      "Iteration: 14, Temperature: 0.488, Accuracy: 0.93, New Accuracy: 0.90\n",
      "Iteration: 15, Temperature: 0.463, Accuracy: 0.93, New Accuracy: 0.90\n",
      "Iteration: 16, Temperature: 0.440, Accuracy: 0.93, New Accuracy: 0.90\n",
      "Iteration: 17, Temperature: 0.418, Accuracy: 0.93, New Accuracy: 0.89\n",
      "Iteration: 18, Temperature: 0.397, Accuracy: 0.93, New Accuracy: 0.88\n",
      "Iteration: 19, Temperature: 0.377, Accuracy: 0.93, New Accuracy: 0.90\n",
      "Iteration: 20, Temperature: 0.358, Accuracy: 0.93, New Accuracy: 0.91\n",
      "Iteration: 21, Temperature: 0.341, Accuracy: 0.93, New Accuracy: 0.89\n",
      "Iteration: 22, Temperature: 0.324, Accuracy: 0.93, New Accuracy: 0.92\n",
      "Iteration: 23, Temperature: 0.307, Accuracy: 0.93, New Accuracy: 0.89\n",
      "Iteration: 24, Temperature: 0.292, Accuracy: 0.93, New Accuracy: 0.89\n",
      "Iteration: 25, Temperature: 0.277, Accuracy: 0.93, New Accuracy: 0.87\n",
      "Iteration: 26, Temperature: 0.264, Accuracy: 0.93, New Accuracy: 0.89\n",
      "Iteration: 27, Temperature: 0.250, Accuracy: 0.93, New Accuracy: 0.88\n",
      "Iteration: 28, Temperature: 0.238, Accuracy: 0.93, New Accuracy: 0.86\n",
      "Iteration: 29, Temperature: 0.226, Accuracy: 0.93, New Accuracy: 0.89\n",
      "Iteration: 30, Temperature: 0.215, Accuracy: 0.93, New Accuracy: 0.89\n",
      "Iteration: 31, Temperature: 0.204, Accuracy: 0.93, New Accuracy: 0.87\n",
      "Iteration: 32, Temperature: 0.194, Accuracy: 0.93, New Accuracy: 0.87\n",
      "Iteration: 33, Temperature: 0.184, Accuracy: 0.93, New Accuracy: 0.88\n",
      "Iteration: 34, Temperature: 0.175, Accuracy: 0.93, New Accuracy: 0.89\n",
      "Iteration: 35, Temperature: 0.166, Accuracy: 0.93, New Accuracy: 0.89\n",
      "Iteration: 36, Temperature: 0.158, Accuracy: 0.93, New Accuracy: 0.88\n",
      "Iteration: 37, Temperature: 0.150, Accuracy: 0.93, New Accuracy: 0.89\n",
      "Iteration: 38, Temperature: 0.142, Accuracy: 0.93, New Accuracy: 0.84\n",
      "Iteration: 39, Temperature: 0.135, Accuracy: 0.93, New Accuracy: 0.86\n",
      "Iteration: 40, Temperature: 0.129, Accuracy: 0.93, New Accuracy: 0.89\n",
      "Iteration: 41, Temperature: 0.122, Accuracy: 0.93, New Accuracy: 0.84\n",
      "Iteration: 42, Temperature: 0.116, Accuracy: 0.93, New Accuracy: 0.85\n",
      "Iteration: 43, Temperature: 0.110, Accuracy: 0.93, New Accuracy: 0.80\n",
      "Iteration: 44, Temperature: 0.105, Accuracy: 0.93, New Accuracy: 0.82\n",
      "Iteration: 45, Temperature: 0.099, Accuracy: 0.93, New Accuracy: 0.84\n",
      "Iteration: 46, Temperature: 0.094, Accuracy: 0.93, New Accuracy: 0.82\n",
      "Iteration: 47, Temperature: 0.090, Accuracy: 0.93, New Accuracy: 0.84\n",
      "Iteration: 48, Temperature: 0.085, Accuracy: 0.93, New Accuracy: 0.83\n",
      "Iteration: 49, Temperature: 0.081, Accuracy: 0.93, New Accuracy: 0.84\n",
      "Iteration: 50, Temperature: 0.077, Accuracy: 0.93, New Accuracy: 0.86\n",
      "Iteration: 51, Temperature: 0.073, Accuracy: 0.93, New Accuracy: 0.82\n",
      "Iteration: 52, Temperature: 0.069, Accuracy: 0.93, New Accuracy: 0.83\n",
      "Iteration: 53, Temperature: 0.066, Accuracy: 0.93, New Accuracy: 0.81\n",
      "Iteration: 54, Temperature: 0.063, Accuracy: 0.93, New Accuracy: 0.78\n",
      "Iteration: 55, Temperature: 0.060, Accuracy: 0.93, New Accuracy: 0.80\n",
      "Iteration: 56, Temperature: 0.057, Accuracy: 0.93, New Accuracy: 0.78\n",
      "Iteration: 57, Temperature: 0.054, Accuracy: 0.93, New Accuracy: 0.77\n",
      "Iteration: 58, Temperature: 0.051, Accuracy: 0.93, New Accuracy: 0.79\n",
      "Iteration: 59, Temperature: 0.048, Accuracy: 0.93, New Accuracy: 0.83\n",
      "Iteration: 60, Temperature: 0.046, Accuracy: 0.93, New Accuracy: 0.75\n",
      "Iteration: 61, Temperature: 0.044, Accuracy: 0.93, New Accuracy: 0.72\n",
      "Iteration: 62, Temperature: 0.042, Accuracy: 0.93, New Accuracy: 0.80\n",
      "Iteration: 63, Temperature: 0.039, Accuracy: 0.93, New Accuracy: 0.78\n",
      "Iteration: 64, Temperature: 0.038, Accuracy: 0.93, New Accuracy: 0.71\n",
      "Iteration: 65, Temperature: 0.036, Accuracy: 0.93, New Accuracy: 0.75\n",
      "Iteration: 66, Temperature: 0.034, Accuracy: 0.93, New Accuracy: 0.80\n",
      "Iteration: 67, Temperature: 0.032, Accuracy: 0.93, New Accuracy: 0.80\n",
      "Iteration: 68, Temperature: 0.031, Accuracy: 0.93, New Accuracy: 0.80\n",
      "Iteration: 69, Temperature: 0.029, Accuracy: 0.93, New Accuracy: 0.75\n",
      "Iteration: 70, Temperature: 0.028, Accuracy: 0.93, New Accuracy: 0.83\n",
      "Iteration: 71, Temperature: 0.026, Accuracy: 0.93, New Accuracy: 0.80\n",
      "Iteration: 72, Temperature: 0.025, Accuracy: 0.93, New Accuracy: 0.81\n",
      "Iteration: 73, Temperature: 0.024, Accuracy: 0.93, New Accuracy: 0.74\n",
      "Iteration: 74, Temperature: 0.022, Accuracy: 0.93, New Accuracy: 0.75\n",
      "Iteration: 75, Temperature: 0.021, Accuracy: 0.93, New Accuracy: 0.71\n",
      "Iteration: 76, Temperature: 0.020, Accuracy: 0.93, New Accuracy: 0.66\n",
      "Iteration: 77, Temperature: 0.019, Accuracy: 0.93, New Accuracy: 0.70\n",
      "Iteration: 78, Temperature: 0.018, Accuracy: 0.93, New Accuracy: 0.71\n",
      "Iteration: 79, Temperature: 0.017, Accuracy: 0.93, New Accuracy: 0.74\n",
      "Iteration: 80, Temperature: 0.017, Accuracy: 0.93, New Accuracy: 0.70\n",
      "Iteration: 81, Temperature: 0.016, Accuracy: 0.93, New Accuracy: 0.69\n",
      "Iteration: 82, Temperature: 0.015, Accuracy: 0.93, New Accuracy: 0.68\n",
      "Iteration: 83, Temperature: 0.014, Accuracy: 0.93, New Accuracy: 0.69\n",
      "Iteration: 84, Temperature: 0.013, Accuracy: 0.93, New Accuracy: 0.76\n",
      "Iteration: 85, Temperature: 0.013, Accuracy: 0.93, New Accuracy: 0.71\n",
      "Iteration: 86, Temperature: 0.012, Accuracy: 0.93, New Accuracy: 0.59\n",
      "Iteration: 87, Temperature: 0.012, Accuracy: 0.93, New Accuracy: 0.68\n",
      "Iteration: 88, Temperature: 0.011, Accuracy: 0.93, New Accuracy: 0.63\n",
      "Iteration: 89, Temperature: 0.010, Accuracy: 0.93, New Accuracy: 0.70\n",
      "Iteration: 90, Temperature: 0.010, Accuracy: 0.93, New Accuracy: 0.65\n",
      "Iteration: 91, Temperature: 0.009, Accuracy: 0.93, New Accuracy: 0.67\n",
      "Iteration: 92, Temperature: 0.009, Accuracy: 0.93, New Accuracy: 0.73\n",
      "Iteration: 93, Temperature: 0.008, Accuracy: 0.93, New Accuracy: 0.68\n",
      "Iteration: 94, Temperature: 0.008, Accuracy: 0.93, New Accuracy: 0.66\n",
      "Iteration: 95, Temperature: 0.008, Accuracy: 0.93, New Accuracy: 0.69\n",
      "Iteration: 96, Temperature: 0.007, Accuracy: 0.93, New Accuracy: 0.70\n",
      "Iteration: 97, Temperature: 0.007, Accuracy: 0.93, New Accuracy: 0.74\n",
      "Iteration: 98, Temperature: 0.007, Accuracy: 0.93, New Accuracy: 0.68\n",
      "Iteration: 99, Temperature: 0.006, Accuracy: 0.93, New Accuracy: 0.68\n",
      "Accuracy: 0.93\n"
     ]
    }
   ],
   "source": [
    "from BaggingSA import BaggingSA\n",
    "\n",
    "data_raw = datasets.load_breast_cancer()\n",
    "X = cancer.data\n",
    "y = cancer.target\n",
    "X_train, X_test, y_train, y_test = train_test_split(X, y, test_size=0.2)\n",
    "\n",
    "\n",
    "bagging_sa = BaggingSA(X=X_train, y=y_train, X_test=X_test, y_test=y_test, \n",
    "                       T0=1.0, alpha=0.95, max_iterations=100, n_trees=10)\n",
    "\n",
    "models = bagging_sa.run_simulated_annealing()\n",
    "\n",
    "accuracy = get_accuracy(models=models, X=X_test, y=y_test)\n",
    "print(f\"Accuracy: {accuracy:.2f}\")"
   ]
  }
 ],
 "metadata": {
  "kernelspec": {
   "display_name": ".venv",
   "language": "python",
   "name": "python3"
  },
  "language_info": {
   "codemirror_mode": {
    "name": "ipython",
    "version": 3
   },
   "file_extension": ".py",
   "mimetype": "text/x-python",
   "name": "python",
   "nbconvert_exporter": "python",
   "pygments_lexer": "ipython3",
   "version": "3.12.9"
  }
 },
 "nbformat": 4,
 "nbformat_minor": 2
}
