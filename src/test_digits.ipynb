{
 "cells": [
  {
   "cell_type": "code",
   "execution_count": 7,
   "metadata": {},
   "outputs": [],
   "source": [
    "from sklearn.model_selection import train_test_split\n",
    "from sklearn.metrics import accuracy_score\n",
    "from sklearn import datasets\n",
    "from sklearn.tree import DecisionTreeClassifier\n",
    "import numpy as np"
   ]
  },
  {
   "cell_type": "code",
   "execution_count": 8,
   "metadata": {},
   "outputs": [],
   "source": [
    "data = datasets.load_digits()\n",
    "X = data.data\n",
    "y = data.target\n",
    "X_train, X_test, y_train, y_test = train_test_split(X, y, test_size=0.2)"
   ]
  },
  {
   "cell_type": "code",
   "execution_count": 9,
   "metadata": {},
   "outputs": [],
   "source": [
    "def test_decision_tree_classifier(n: int) -> float:\n",
    "    res_sum = 0.0\n",
    "    for i in range(n):\n",
    "        clf = DecisionTreeClassifier()\n",
    "        clf.fit(X_train, y_train)\n",
    "        y_pred = clf.predict(X_test)\n",
    "        res_sum += accuracy_score(y_test, y_pred)\n",
    "    return res_sum / n\n",
    "    "
   ]
  },
  {
   "cell_type": "code",
   "execution_count": 10,
   "metadata": {},
   "outputs": [],
   "source": [
    "# BAGGING DECISION TREE CLASSIFIER EXAMPLE\n",
    "from BaggingDT import create_bags, create_models, get_accuracy\n",
    "\n",
    "def test_bagging_decision_tree_classifier(n: int) -> float:\n",
    "    res_sum = 0.0\n",
    "    for i in range(n):\n",
    "        bags = create_bags(X_train, y_train, n_bags=10)\n",
    "        models = create_models(bags=bags, n_trees=10)\n",
    "        accuracy = get_accuracy(models=models, X=X_test, y=y_test)\n",
    "        res_sum += accuracy\n",
    "    return res_sum / n"
   ]
  },
  {
   "cell_type": "code",
   "execution_count": 11,
   "metadata": {},
   "outputs": [],
   "source": [
    "from BaggingSA import BaggingSA\n",
    "\n",
    "def test_bagging_sa(n: int) -> float:\n",
    "    res_sum = 0.0\n",
    "    for i in range(n):\n",
    "        bagging_sa = BaggingSA(X=X_train, y=y_train, \n",
    "                               T0=1.0, alpha=0.95, max_iterations=100, n_trees=10)\n",
    "        models = bagging_sa.run_simulated_annealing()\n",
    "        accuracy = get_accuracy(models=models, X=X_test, y=y_test)\n",
    "        res_sum += accuracy\n",
    "    return res_sum / n"
   ]
  },
  {
   "cell_type": "code",
   "execution_count": 12,
   "metadata": {},
   "outputs": [
    {
     "name": "stdout",
     "output_type": "stream",
     "text": [
      "Iteration: 0, Temperature: 1.0000, Accuracy: 1.00, New Accuracy: 1.00\n",
      "Iteration: 0, Temperature: 1.0000, Accuracy: 1.00, New Accuracy: 1.00\n",
      "Iteration: 0, Temperature: 1.0000, Accuracy: 0.99, New Accuracy: 1.00\n",
      "Iteration: 0, Temperature: 1.0000, Accuracy: 1.00, New Accuracy: 1.00\n",
      "\n",
      "Decision Tree Classifier Accuracy: 0.8575\n",
      "Bagging Decision Tree Classifier Accuracy: 0.8383\n",
      "Bagging SA Accuracy: 0.8403\n"
     ]
    }
   ],
   "source": [
    "reps = 10\n",
    "accuracy_dt = test_decision_tree_classifier(reps)\n",
    "accuracy_bagging_dt = test_bagging_decision_tree_classifier(reps)\n",
    "accuracy_bagging_sa = test_bagging_sa(reps)\n",
    "\n",
    "print()\n",
    "print(f\"Decision Tree Classifier Accuracy: {accuracy_dt:.4f}\")\n",
    "print(f\"Bagging Decision Tree Classifier Accuracy: {accuracy_bagging_dt:.4f}\")\n",
    "print(f\"Bagging SA Accuracy: {accuracy_bagging_sa:.4f}\")"
   ]
  }
 ],
 "metadata": {
  "kernelspec": {
   "display_name": ".venv",
   "language": "python",
   "name": "python3"
  },
  "language_info": {
   "codemirror_mode": {
    "name": "ipython",
    "version": 3
   },
   "file_extension": ".py",
   "mimetype": "text/x-python",
   "name": "python",
   "nbconvert_exporter": "python",
   "pygments_lexer": "ipython3",
   "version": "3.12.9"
  }
 },
 "nbformat": 4,
 "nbformat_minor": 2
}
